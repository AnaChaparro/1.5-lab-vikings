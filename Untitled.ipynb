{
 "cells": [
  {
   "cell_type": "code",
   "execution_count": 32,
   "id": "edaa6c8e",
   "metadata": {},
   "outputs": [
    {
     "data": {
      "text/plain": [
       "2597466"
      ]
     },
     "execution_count": 32,
     "metadata": {},
     "output_type": "execute_result"
    }
   ],
   "source": [
    "def nth_even(n):\n",
    "            \n",
    "    return (n*2)-2\n",
    "\n",
    "nth_even(1298734)"
   ]
  },
  {
   "cell_type": "code",
   "execution_count": null,
   "id": "060d56de",
   "metadata": {},
   "outputs": [],
   "source": [
    "def fibs_fizz_buzz(n):\n",
    "    res=0\n",
    "    for i in n:\n",
    "        if [i]==0:\n",
    "            res\n",
    "        \n",
    "    return "
   ]
  },
  {
   "cell_type": "code",
   "execution_count": 48,
   "id": "5894f129",
   "metadata": {},
   "outputs": [],
   "source": [
    "def fibs_fizz_buzz(n):\n",
    "    \n",
    "    n=int(input(\"Enter the value of 'n': \"))\n",
    "\n",
    "    first=0\n",
    "    second=1\n",
    "    sum=0\n",
    "    count=1\n",
    "\n",
    "    print(\"Fibonacci Sequence: \")\n",
    "\n",
    "    while(count<=n):    \n",
    "        print(sum)\n",
    "        count+=1\n",
    "        first=second\n",
    "        second=sum\n",
    "        sum=first+second\n",
    "        break\n",
    "        \n",
    "\n",
    "        \n"
   ]
  },
  {
   "cell_type": "code",
   "execution_count": 62,
   "id": "4d6f009b",
   "metadata": {},
   "outputs": [
    {
     "name": "stdout",
     "output_type": "stream",
     "text": [
      "Enter the value of 'n': 6\n",
      "Fibonacci Sequence: \n",
      "0\n",
      "1\n",
      "1\n",
      "2\n",
      "3\n",
      "5\n"
     ]
    },
    {
     "ename": "TypeError",
     "evalue": "'int' object is not iterable",
     "output_type": "error",
     "traceback": [
      "\u001b[0;31m---------------------------------------------------------------------------\u001b[0m",
      "\u001b[0;31mTypeError\u001b[0m                                 Traceback (most recent call last)",
      "\u001b[0;32m/var/folders/kt/1l7ng4_s1hg4zlj4h33j846w0000gn/T/ipykernel_1818/2559699977.py\u001b[0m in \u001b[0;36m<module>\u001b[0;34m\u001b[0m\n\u001b[1;32m     17\u001b[0m \u001b[0;34m\u001b[0m\u001b[0m\n\u001b[1;32m     18\u001b[0m \u001b[0mseq\u001b[0m\u001b[0;34m=\u001b[0m\u001b[0;34m[\u001b[0m\u001b[0;34m]\u001b[0m\u001b[0;34m\u001b[0m\u001b[0;34m\u001b[0m\u001b[0m\n\u001b[0;32m---> 19\u001b[0;31m \u001b[0;32mfor\u001b[0m \u001b[0mi\u001b[0m \u001b[0;32min\u001b[0m \u001b[0msum\u001b[0m\u001b[0;34m:\u001b[0m\u001b[0;34m\u001b[0m\u001b[0;34m\u001b[0m\u001b[0m\n\u001b[0m\u001b[1;32m     20\u001b[0m     \u001b[0mseq\u001b[0m\u001b[0;34m.\u001b[0m\u001b[0mappend\u001b[0m\u001b[0;34m(\u001b[0m\u001b[0mi\u001b[0m\u001b[0;34m)\u001b[0m\u001b[0;34m\u001b[0m\u001b[0;34m\u001b[0m\u001b[0m\n\u001b[1;32m     21\u001b[0m \u001b[0mprint\u001b[0m\u001b[0;34m(\u001b[0m\u001b[0mseq\u001b[0m\u001b[0;34m)\u001b[0m\u001b[0;34m\u001b[0m\u001b[0;34m\u001b[0m\u001b[0m\n",
      "\u001b[0;31mTypeError\u001b[0m: 'int' object is not iterable"
     ]
    }
   ],
   "source": [
    "n=int(input(\"Enter the value of 'n': \"))\n",
    "\n",
    "first=0\n",
    "second=1\n",
    "sum=0\n",
    "count=1\n",
    "\n",
    "\n",
    "print(\"Fibonacci Sequence: \")\n",
    "\n",
    "while(count<=n):    \n",
    "        print(sum)\n",
    "        count+=1\n",
    "        first=second\n",
    "        second=sum\n",
    "        sum=first+second\n",
    "\n",
    "seq=[]\n",
    "for i in sum:\n",
    "    seq.append(i)\n",
    "print(seq)\n",
    "\n",
    "        \n",
    "        "
   ]
  },
  {
   "cell_type": "code",
   "execution_count": 82,
   "id": "8be5b3de",
   "metadata": {},
   "outputs": [
    {
     "ename": "SyntaxError",
     "evalue": "invalid syntax (1836694293.py, line 29)",
     "output_type": "error",
     "traceback": [
      "\u001b[0;36m  File \u001b[0;32m\"/var/folders/kt/1l7ng4_s1hg4zlj4h33j846w0000gn/T/ipykernel_1818/1836694293.py\"\u001b[0;36m, line \u001b[0;32m29\u001b[0m\n\u001b[0;31m    lst.[index]='Fizz'\u001b[0m\n\u001b[0m        ^\u001b[0m\n\u001b[0;31mSyntaxError\u001b[0m\u001b[0;31m:\u001b[0m invalid syntax\n"
     ]
    }
   ],
   "source": [
    "lst=[0, 1]\n",
    "\n",
    "a=0\n",
    "b=1\n",
    "\n",
    "print(a)\n",
    "print(b)\n",
    "\n",
    "contador=0\n",
    "\n",
    "\n",
    "while contador<10:\n",
    "    \n",
    "    c = a+b\n",
    "    \n",
    "    print(c)\n",
    "    \n",
    "    lst.append(c)\n",
    "    \n",
    "    a = b\n",
    "    b = c\n",
    "    \n",
    "    contador += 1\n",
    "\n",
    "print(lst)\n",
    "    \n",
    "for index,i in enumerate(lst):\n",
    "    if i%3==0:\n",
    "        lst.[index]='Fizz'\n",
    "    elif i%5==0:\n",
    "        lst.[index]='Buzz'\n",
    "        \n",
    "        \n",
    "print(lst)\n",
    "\n",
    "\n"
   ]
  },
  {
   "cell_type": "code",
   "execution_count": 83,
   "id": "d1981cc8",
   "metadata": {},
   "outputs": [],
   "source": [
    "def fibs_fizz_buzz(n):\n",
    "    if 1 == n:\n",
    "        return [1]\n",
    "    if 2 == n:\n",
    "        return [1,1]\n",
    "    a = 1\n",
    "    b = 1\n",
    "    \n",
    "    \n",
    "    fibbo = [1,1]\n",
    "    for i in range(n-2):\n",
    "        \n",
    "        b1 = a+b\n",
    "        a = b\n",
    "        b = b1\n",
    "        if b1%15 == 0:\n",
    "            b1 = \"FizzBuzz\"\n",
    "        elif b1%3== 0:\n",
    "            b1 = \"Fizz\"\n",
    "        elif b1%5 == 0:\n",
    "            b1 = \"Buzz\"\n",
    "        \n",
    "        fibbo.append(b1)\n",
    "    return fibbo"
   ]
  },
  {
   "cell_type": "code",
   "execution_count": 86,
   "id": "22580128",
   "metadata": {},
   "outputs": [
    {
     "name": "stdout",
     "output_type": "stream",
     "text": [
      "[1, 1, 2, 'Fizz', 'Buzz', 8, 13, 'Fizz', 34, 'Buzz', 89, 'Fizz', 233, 377, 'Buzz', 'Fizz', 1597, 2584]\n"
     ]
    }
   ],
   "source": [
    "print(fibs_fizz_buzz(18))"
   ]
  },
  {
   "cell_type": "code",
   "execution_count": null,
   "id": "38772484",
   "metadata": {},
   "outputs": [],
   "source": []
  }
 ],
 "metadata": {
  "kernelspec": {
   "display_name": "clase",
   "language": "python",
   "name": "clase"
  },
  "language_info": {
   "codemirror_mode": {
    "name": "ipython",
    "version": 3
   },
   "file_extension": ".py",
   "mimetype": "text/x-python",
   "name": "python",
   "nbconvert_exporter": "python",
   "pygments_lexer": "ipython3",
   "version": "3.7.13"
  }
 },
 "nbformat": 4,
 "nbformat_minor": 5
}
